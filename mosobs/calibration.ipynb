{
 "metadata": {
  "name": ""
 },
 "nbformat": 3,
 "nbformat_minor": 0,
 "worksheets": [
  {
   "cells": [
    {
     "cell_type": "markdown",
     "metadata": {},
     "source": [
      "This notebook is a testing ground for constructing Conditional Quantile plots for evaluationg MOS forecast performance (Section 7.3.1, Wilks)"
     ]
    },
    {
     "cell_type": "code",
     "collapsed": false,
     "input": [
      "import numpy as np\n",
      "import pandas as pd\n",
      "from pylab import * \n",
      "ion()\n",
      "\n",
      "mpl.rc('text', usetex=False)"
     ],
     "language": "python",
     "metadata": {},
     "outputs": [],
     "prompt_number": 5
    },
    {
     "cell_type": "markdown",
     "metadata": {},
     "source": [
      "Choose Cheyenne; fetch MOS and OBS"
     ]
    },
    {
     "cell_type": "code",
     "collapsed": false,
     "input": [
      "station = \"KCYS\"\n",
      "\n",
      "from util.obs import parse_observations, fetch_OBS\n",
      "fetch_OBS(station, update=False)\n",
      "vd, core = parse_observations(station)\n",
      "\n",
      "## Subset the observational data. As an example, choose all\n",
      "## October data\n",
      "core_ss = core[(core.index.month == 10)]\n",
      "years = set()\n",
      "for date in core_ss.index:\n",
      "    year = date.year\n",
      "    years.add(year)\n",
      "print years\n",
      "\n",
      "from util.mos import get_NAM, get_GFS\n",
      "#get_GFS(station, years)\n",
      "#get_NAM(station, years)\n",
      "\n",
      "from util.mos import concatenate_MOS\n",
      "\n",
      "## Get corresponding MOS forecasts.\n",
      "## For now, grab 18Z GFS Day 1 TMAX\n",
      "model = \"GFS18Z\"\n",
      "\n",
      "dates = core_ss.index\n",
      "valid_dates = []\n",
      "fcst_tmaxes = []\n",
      "for d in dates: \n",
      "    try:\n",
      "        mos_panel, mos_fcst = concatenate_MOS(station, d)\n",
      "    except ValueError:\n",
      "        continue\n",
      "    \n",
      "    if model in mos_fcst:\n",
      "        valid_dates.append(d)\n",
      "        fcst_tmaxes.append(mos_fcst[model].maxmins[d]['max'])\n",
      "\n",
      "        "
     ],
     "language": "python",
     "metadata": {},
     "outputs": [
      {
       "output_type": "stream",
       "stream": "stdout",
       "text": [
        "\n"
       ]
      },
      {
       "output_type": "stream",
       "stream": "stdout",
       "text": [
        "Downloading OBS data for KCYS\n",
        "set([2003, 2004, 2005, 2006, 2007, 2008, 2009, 2010, 2011, 2012, 2013])"
       ]
      },
      {
       "output_type": "stream",
       "stream": "stdout",
       "text": [
        "\n",
        "248"
       ]
      },
      {
       "output_type": "stream",
       "stream": "stdout",
       "text": [
        "\n"
       ]
      }
     ],
     "prompt_number": 27
    },
    {
     "cell_type": "code",
     "collapsed": false,
     "input": [
      "tmaxes = np.floor(core_ss['TMAX'])\n",
      "tmaxes_unique = tmaxes.value_counts()\n",
      "print tmaxes_unique\n",
      "\n",
      "## Choose 18Z \n",
      "## Make frequency plot\n",
      "fig = figure()\n",
      "ax = fig.add_subplot(111)\n",
      "\n",
      "lefts = np.array(tmaxes_unique.index) - 0.5\n",
      "heights = tmaxes_unique.values\n",
      "ax.bar(lefts, heights, width=1.0)\n",
      "\n",
      "## For each of the unique values, "
     ],
     "language": "python",
     "metadata": {},
     "outputs": [
      {
       "output_type": "stream",
       "stream": "stdout",
       "text": [
        "64    26\n",
        "73    23\n",
        "66    20\n",
        "53    20\n",
        "57    19\n",
        "60    17\n",
        "55    17\n",
        "69    17\n",
        "71    17\n",
        "51    16\n",
        "62    15\n",
        "44    12\n",
        "46    12\n",
        "78    12\n",
        "42    11\n",
        "50     8\n",
        "75     8\n",
        "37     7\n",
        "35     7\n",
        "59     7\n",
        "80     6\n",
        "48     6\n",
        "39     5\n",
        "77     5\n",
        "68     4\n",
        "82     3\n",
        "26     3\n",
        "33     3\n",
        "28     2\n",
        "30     2\n",
        "17     1\n",
        "41     1\n",
        "84     1\n",
        "21     1\n",
        "24     1\n",
        "dtype: int64\n"
       ]
      },
      {
       "metadata": {},
       "output_type": "pyout",
       "prompt_number": 17,
       "text": [
        "<Container object of 35 artists>"
       ]
      },
      {
       "metadata": {},
       "output_type": "display_data",
       "png": "[encoded data removed]",
       "text": [
        "<matplotlib.figure.Figure at 0x573b450>"
       ]
      }
     ],
     "prompt_number": 17
    },
    {
     "cell_type": "code",
     "collapsed": false,
     "input": [
      "fig = figure()\n",
      "ax = fig.add_subplot(111)\n",
      "x = [1,2,3]\n",
      "y = [3,1,2]\n",
      "ax.plot(x,y)"
     ],
     "language": "python",
     "metadata": {},
     "outputs": [
      {
       "metadata": {},
       "output_type": "pyout",
       "prompt_number": 29,
       "text": [
        "[<matplotlib.lines.Line2D at 0x4e28d10>]"
       ]
      },
      {
       "metadata": {},
       "output_type": "display_data",
       "text": [
        "<matplotlib.figure.Figure at 0x4557750>"
       ]
      }
     ],
     "prompt_number": 29
    },
    {
     "cell_type": "code",
     "collapsed": false,
     "input": [],
     "language": "python",
     "metadata": {},
     "outputs": []
    }
   ],
   "metadata": {}
  }
 ]
}